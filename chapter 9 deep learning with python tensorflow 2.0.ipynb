{
 "cells": [
  {
   "cell_type": "markdown",
   "metadata": {},
   "source": [
    "# Chapter 9\n",
    "\n",
    "## Deep Learning with `tensorflow 2.0`"
   ]
  },
  {
   "cell_type": "markdown",
   "metadata": {},
   "source": [
    "checking tensorflow version installed"
   ]
  },
  {
   "cell_type": "code",
   "execution_count": 1,
   "metadata": {},
   "outputs": [
    {
     "name": "stdout",
     "output_type": "stream",
     "text": [
      "2.7.0\n"
     ]
    }
   ],
   "source": [
    "import tensorflow as tf\n",
    "print(tf.__version__)"
   ]
  },
  {
   "cell_type": "markdown",
   "metadata": {},
   "source": [
    "importing tensorflow libraries and the local copy of banknote data"
   ]
  },
  {
   "cell_type": "code",
   "execution_count": 2,
   "metadata": {},
   "outputs": [
    {
     "data": {
      "text/html": [
       "<div>\n",
       "<style scoped>\n",
       "    .dataframe tbody tr th:only-of-type {\n",
       "        vertical-align: middle;\n",
       "    }\n",
       "\n",
       "    .dataframe tbody tr th {\n",
       "        vertical-align: top;\n",
       "    }\n",
       "\n",
       "    .dataframe thead th {\n",
       "        text-align: right;\n",
       "    }\n",
       "</style>\n",
       "<table border=\"1\" class=\"dataframe\">\n",
       "  <thead>\n",
       "    <tr style=\"text-align: right;\">\n",
       "      <th></th>\n",
       "      <th>variance</th>\n",
       "      <th>skewness</th>\n",
       "      <th>curtosis</th>\n",
       "      <th>entropy</th>\n",
       "      <th>Target</th>\n",
       "    </tr>\n",
       "  </thead>\n",
       "  <tbody>\n",
       "    <tr>\n",
       "      <th>0</th>\n",
       "      <td>3.62160</td>\n",
       "      <td>8.6661</td>\n",
       "      <td>-2.8073</td>\n",
       "      <td>-0.44699</td>\n",
       "      <td>0</td>\n",
       "    </tr>\n",
       "    <tr>\n",
       "      <th>1</th>\n",
       "      <td>4.54590</td>\n",
       "      <td>8.1674</td>\n",
       "      <td>-2.4586</td>\n",
       "      <td>-1.46210</td>\n",
       "      <td>0</td>\n",
       "    </tr>\n",
       "    <tr>\n",
       "      <th>2</th>\n",
       "      <td>3.86600</td>\n",
       "      <td>-2.6383</td>\n",
       "      <td>1.9242</td>\n",
       "      <td>0.10645</td>\n",
       "      <td>0</td>\n",
       "    </tr>\n",
       "    <tr>\n",
       "      <th>3</th>\n",
       "      <td>3.45660</td>\n",
       "      <td>9.5228</td>\n",
       "      <td>-4.0112</td>\n",
       "      <td>-3.59440</td>\n",
       "      <td>0</td>\n",
       "    </tr>\n",
       "    <tr>\n",
       "      <th>4</th>\n",
       "      <td>0.32924</td>\n",
       "      <td>-4.4552</td>\n",
       "      <td>4.5718</td>\n",
       "      <td>-0.98880</td>\n",
       "      <td>0</td>\n",
       "    </tr>\n",
       "  </tbody>\n",
       "</table>\n",
       "</div>"
      ],
      "text/plain": [
       "   variance  skewness  curtosis  entropy  Target\n",
       "0   3.62160    8.6661   -2.8073 -0.44699       0\n",
       "1   4.54590    8.1674   -2.4586 -1.46210       0\n",
       "2   3.86600   -2.6383    1.9242  0.10645       0\n",
       "3   3.45660    9.5228   -4.0112 -3.59440       0\n",
       "4   0.32924   -4.4552    4.5718 -0.98880       0"
      ]
     },
     "execution_count": 2,
     "metadata": {},
     "output_type": "execute_result"
    }
   ],
   "source": [
    "\n",
    "import tensorflow as tf\n",
    "import seaborn as sns\n",
    "import pandas as pd\n",
    "import numpy as np\n",
    "from tensorflow.keras.layers import Dense, Dropout, Activation\n",
    "from tensorflow.keras.models import Model, Sequential\n",
    "from tensorflow.keras.optimizers import Adam\n",
    "\n",
    "banknote_data = pd.read_csv(\"bank_notes.csv\")\n",
    "banknote_data.head()\n"
   ]
  },
  {
   "cell_type": "markdown",
   "metadata": {},
   "source": [
    "plotting a count plot to see the distribution of the data and its values"
   ]
  },
  {
   "cell_type": "code",
   "execution_count": 3,
   "metadata": {},
   "outputs": [
    {
     "data": {
      "text/plain": [
       "<AxesSubplot:xlabel='Target', ylabel='count'>"
      ]
     },
     "execution_count": 3,
     "metadata": {},
     "output_type": "execute_result"
    },
    {
     "data": {
      "image/png": "[encoded data removed]",
      "text/plain": [
       "<Figure size 640x480 with 1 Axes>"
      ]
     },
     "metadata": {},
     "output_type": "display_data"
    }
   ],
   "source": [
    "import tensorflow as tf\n",
    "import seaborn as sns\n",
    "import pandas as pd\n",
    "import numpy as np\n",
    "from tensorflow.keras.layers import Dense, Dropout, Activation\n",
    "from tensorflow.keras.models import Model, Sequential\n",
    "from tensorflow.keras.optimizers import Adam\n",
    "\n",
    "banknote_data = pd.read_csv(\"bank_notes.csv\")\n",
    "#here the number of fake bank notes, 1, is slightly less than the number of genuine ones, 0\n",
    "sns.countplot(x=\"Target\",data=banknote_data)\n",
    "#our task is to predict the values for the \"Target\" column in our dataset based on the values\n",
    "#in the first four columns"
   ]
  },
  {
   "cell_type": "markdown",
   "metadata": {},
   "source": [
    "dividing the data into features and target labels"
   ]
  },
  {
   "cell_type": "code",
   "execution_count": 4,
   "metadata": {},
   "outputs": [
    {
     "name": "stdout",
     "output_type": "stream",
     "text": [
      "(1372, 4)\n",
      "(1372, 1)\n"
     ]
    }
   ],
   "source": [
    "import tensorflow as tf\n",
    "import seaborn as sns\n",
    "import pandas as pd\n",
    "import numpy as np\n",
    "from tensorflow.keras.layers import Dense, Dropout, Activation\n",
    "from tensorflow.keras.models import Model, Sequential\n",
    "from tensorflow.keras.optimizers import Adam\n",
    "\n",
    "banknote_data = pd.read_csv(\"bank_notes.csv\")\n",
    "\n",
    "#variable X contains the feature set\n",
    "#variable Y contains target labels\n",
    "X = banknote_data.drop([\"Target\"],axis=1).values\n",
    "Y = banknote_data[[\"Target\"]].values\n",
    "\n",
    "print(X.shape)\n",
    "print(Y.shape)"
   ]
  },
  {
   "cell_type": "markdown",
   "metadata": {},
   "source": [
    "Deep learning models require two datasets\n",
    "- One is a training set, the data the model is trained on\n",
    "- The other is a test set, the data the model is tested on\n",
    "\n",
    "Here we shall split the total data into an 80% training set and a 20% test set"
   ]
  },
  {
   "cell_type": "code",
   "execution_count": 5,
   "metadata": {},
   "outputs": [],
   "source": [
    "from sklearn.model_selection import train_test_split\n",
    "X_train, X_test, Y_train, Y_test = train_test_split(X,Y,test_size=0.20,random_state=42)"
   ]
  },
  {
   "cell_type": "markdown",
   "metadata": {},
   "source": [
    "this code will scale the data for the training and test sets"
   ]
  },
  {
   "cell_type": "code",
   "execution_count": 6,
   "metadata": {},
   "outputs": [],
   "source": [
    "from sklearn.preprocessing import StandardScaler\n",
    "sc = StandardScaler()\n",
    "X_train = sc.fit_transform(X_train)\n",
    "X_test = sc.transform(X_test)"
   ]
  },
  {
   "cell_type": "markdown",
   "metadata": {},
   "source": [
    "to create a neural network, you can use the sequential class from the tensoflow keras models module\n",
    "- to add layers to the model, call the add method and pass your layer to it\n",
    "- to create a dense layer, you can use the Dense class\n",
    "\n",
    "\n",
    "the first parameter is the Dense class is the number of nodes in the dense layer\n",
    "- the second parameter is the dimension of the input\n",
    "- the activaiton function can be defined by passing a string value to the activation attribute of the dense class\n",
    "- the input dimensions are only required to be passed to the first dense layer\n",
    "- subsequent dense layerse can calculate the input dimensions automatically from the number of nodes in the previous layers\n",
    "\n",
    "\n",
    "this code defines a method create_model\n",
    "- the model takes two parameters - learning_rate and dropout_rate\n",
    "- inside the model we create an object of the sequential class and add three dense layers to the model\n",
    "- the layers contain 12, 6 and 1 nodes respectively\n",
    "- after each dense layer, we add a dropout layer with a dropout rate of 0.1\n",
    "- adding dropout after each layer avoids overfitting\n",
    "\n",
    "\n",
    "after you create the model, you need to compile it via the compile method\n",
    "- the compile method takes the loss function, the optimiser and the metrics as parameters\n",
    "- remember for binary classification, the activation function in the final dense layer with be sigmoid\n",
    "- but the loss function in the compile method will be binary_crossentropy"
   ]
  },
  {
   "cell_type": "code",
   "execution_count": 7,
   "metadata": {},
   "outputs": [],
   "source": [
    "def create_model (learning_rate, dropout_rate):\n",
    "\n",
    "    #create sequential model\n",
    "    model = Sequential()\n",
    "    \n",
    "    #adding dense layers\n",
    "    model.add(Dense(12,input_dim=X_train.shape[1],activation=\"relu\"))\n",
    "    model.add(Dropout(dropout_rate))\n",
    "    model.add(Dense(6,activation=\"relu\"))\n",
    "    model.add(Dropout(dropout_rate))\n",
    "    model.add(Dense(1,activation=\"sigmoid\"))\n",
    "\n",
    "    #compiling the model\n",
    "    adam = Adam(lr=learning_rate)\n",
    "    model.compile(loss=\"binary_crossentropy\",optimizer=adam,metrics=[\"accuracy\"])\n",
    "    return model"
   ]
  },
  {
   "cell_type": "markdown",
   "metadata": {},
   "source": [
    "next we need to define:\n",
    "- the default dropout rate\n",
    "- learning rate batch size\n",
    "- the number of epochs\n",
    "- the number of epochs refers to the number of times the whole dataset is used for training\n",
    "- the batch size referes to the number of records after which the weights are updated"
   ]
  },
  {
   "cell_type": "code",
   "execution_count": 8,
   "metadata": {},
   "outputs": [],
   "source": [
    "dropout_rate = 0.1\n",
    "epochs = 20\n",
    "batch_size = 4\n",
    "learn_rate = 0.001"
   ]
  },
  {
   "cell_type": "code",
   "execution_count": 9,
   "metadata": {},
   "outputs": [
    {
     "name": "stderr",
     "output_type": "stream",
     "text": [
      "c:\\Users\\Tim\\AppData\\Local\\Programs\\Python\\Python39\\lib\\site-packages\\keras\\optimizer_v2\\adam.py:105: UserWarning: The `lr` argument is deprecated, use `learning_rate` instead.\n",
      "  super(Adam, self).__init__(name, **kwargs)\n"
     ]
    }
   ],
   "source": [
    "#this code creates our model\n",
    "\n",
    "model = create_model(learn_rate, dropout_rate)"
   ]
  },
  {
   "cell_type": "markdown",
   "metadata": {},
   "source": [
    "we can view the model architecture via the plot_model() method of the tensoflow keras utils module"
   ]
  },
  {
   "cell_type": "code",
   "execution_count": 10,
   "metadata": {},
   "outputs": [
    {
     "data": {
      "image/png": "[encoded data removed]",
      "text/plain": [
       "<IPython.core.display.Image object>"
      ]
     },
     "execution_count": 10,
     "metadata": {},
     "output_type": "execute_result"
    }
   ],
   "source": [
    "from tensorflow.keras.utils import plot_model\n",
    "\n",
    "plot_model(model,to_file=\"model_plot1.png\",show_shapes=True,show_layer_names=True)\n",
    "\n",
    "#this output below shows that the input layer contains four nodes\n",
    "#the input to the first dense layer is four, while the output is 12\n",
    "#similarly the inpyt to the second dnese layer is 12, while the output is 6\n",
    "#finally in the last dense layer, the input is 6 nodes, while the output is 1 since we are making binary classification\n",
    "#also you can see a dropout layer after each dense layer"
   ]
  },
  {
   "cell_type": "markdown",
   "metadata": {},
   "source": [
    "to train the model, you need to call the fit method on the model object\n",
    "- the fit method takes the training features and targets as parameters\n",
    "- along with the batch size, number of epochs, and the validation split\n",
    "- the validation split refers to the split in the training data during training"
   ]
  },
  {
   "cell_type": "code",
   "execution_count": 11,
   "metadata": {},
   "outputs": [
    {
     "name": "stdout",
     "output_type": "stream",
     "text": [
      "Epoch 1/20\n",
      "220/220 [==============================] - 1s 2ms/step - loss: 0.5435 - accuracy: 0.7913 - val_loss: 0.4407 - val_accuracy: 0.8773\n",
      "Epoch 2/20\n",
      "220/220 [==============================] - 0s 1ms/step - loss: 0.3683 - accuracy: 0.8826 - val_loss: 0.2699 - val_accuracy: 0.9273\n",
      "Epoch 3/20\n",
      "220/220 [==============================] - 0s 1ms/step - loss: 0.2513 - accuracy: 0.9270 - val_loss: 0.1682 - val_accuracy: 0.9409\n",
      "Epoch 4/20\n",
      "220/220 [==============================] - 0s 1ms/step - loss: 0.1713 - accuracy: 0.9498 - val_loss: 0.1062 - val_accuracy: 0.9682\n",
      "Epoch 5/20\n",
      "220/220 [==============================] - 0s 1ms/step - loss: 0.1354 - accuracy: 0.9578 - val_loss: 0.0754 - val_accuracy: 0.9864\n",
      "Epoch 6/20\n",
      "220/220 [==============================] - 0s 1ms/step - loss: 0.1034 - accuracy: 0.9681 - val_loss: 0.0525 - val_accuracy: 0.9955\n",
      "Epoch 7/20\n",
      "220/220 [==============================] - 0s 1ms/step - loss: 0.1017 - accuracy: 0.9669 - val_loss: 0.0452 - val_accuracy: 0.9864\n",
      "Epoch 8/20\n",
      "220/220 [==============================] - 0s 1ms/step - loss: 0.0911 - accuracy: 0.9647 - val_loss: 0.0333 - val_accuracy: 0.9955\n",
      "Epoch 9/20\n",
      "220/220 [==============================] - 0s 1ms/step - loss: 0.0892 - accuracy: 0.9635 - val_loss: 0.0275 - val_accuracy: 0.9864\n",
      "Epoch 10/20\n",
      "220/220 [==============================] - 0s 2ms/step - loss: 0.0763 - accuracy: 0.9738 - val_loss: 0.0208 - val_accuracy: 1.0000\n",
      "Epoch 11/20\n",
      "220/220 [==============================] - 0s 2ms/step - loss: 0.0595 - accuracy: 0.9772 - val_loss: 0.0197 - val_accuracy: 0.9909\n",
      "Epoch 12/20\n",
      "220/220 [==============================] - 1s 3ms/step - loss: 0.0568 - accuracy: 0.9772 - val_loss: 0.0168 - val_accuracy: 1.0000\n",
      "Epoch 13/20\n",
      "220/220 [==============================] - 1s 4ms/step - loss: 0.0592 - accuracy: 0.9749 - val_loss: 0.0147 - val_accuracy: 1.0000\n",
      "Epoch 14/20\n",
      "220/220 [==============================] - 1s 4ms/step - loss: 0.0554 - accuracy: 0.9772 - val_loss: 0.0119 - val_accuracy: 1.0000\n",
      "Epoch 15/20\n",
      "220/220 [==============================] - 1s 3ms/step - loss: 0.0574 - accuracy: 0.9749 - val_loss: 0.0106 - val_accuracy: 1.0000\n",
      "Epoch 16/20\n",
      "220/220 [==============================] - 1s 3ms/step - loss: 0.0451 - accuracy: 0.9806 - val_loss: 0.0096 - val_accuracy: 1.0000\n",
      "Epoch 17/20\n",
      "220/220 [==============================] - 0s 2ms/step - loss: 0.0358 - accuracy: 0.9829 - val_loss: 0.0080 - val_accuracy: 1.0000\n",
      "Epoch 18/20\n",
      "220/220 [==============================] - 0s 2ms/step - loss: 0.0446 - accuracy: 0.9783 - val_loss: 0.0070 - val_accuracy: 1.0000\n",
      "Epoch 19/20\n",
      "220/220 [==============================] - 0s 2ms/step - loss: 0.0521 - accuracy: 0.9726 - val_loss: 0.0065 - val_accuracy: 1.0000\n",
      "Epoch 20/20\n",
      "220/220 [==============================] - 0s 2ms/step - loss: 0.0266 - accuracy: 0.9886 - val_loss: 0.0054 - val_accuracy: 1.0000\n"
     ]
    }
   ],
   "source": [
    "model_history = model.fit(X_train,Y_train,batch_size=batch_size,epochs=epochs,validation_split=0.2,verbose=1)\n",
    "\n",
    "#our neural network is now trained, the val_accuracy of 1.0 in the last epoch shows that\n",
    "#on the training set, our neural network is making predictions with 100% accuracy"
   ]
  },
  {
   "cell_type": "markdown",
   "metadata": {},
   "source": [
    "evaluating neural network performance\n",
    "- we can now evaluate its performance by making predictions on the test set\n",
    "- to make predictions on the test set, you have to pass the set to the evaluate() method of the model\n",
    "- as shown below:"
   ]
  },
  {
   "cell_type": "code",
   "execution_count": 12,
   "metadata": {},
   "outputs": [
    {
     "name": "stdout",
     "output_type": "stream",
     "text": [
      "9/9 [==============================] - 0s 2ms/step - loss: 0.0152 - accuracy: 0.9964\n",
      "Test Score:  0.015216519124805927\n",
      "Test Accuracy:  0.996363639831543\n"
     ]
    }
   ],
   "source": [
    "accuracies = model.evaluate(X_test, Y_test, verbose=1)\n",
    "print(\"Test Score: \", accuracies[0])\n",
    "print(\"Test Accuracy: \", accuracies[1])\n",
    "\n",
    "#the output shows an accuracy of 100% on the test set\n",
    "#the loss value of 0.0114 is shown\n",
    "#remeber, the lower the loss, the higher the accuracy"
   ]
  },
  {
   "cell_type": "markdown",
   "metadata": {},
   "source": [
    "lets now plot the accuracy on the training and test sets to see if our model is overfitting or not"
   ]
  },
  {
   "cell_type": "code",
   "execution_count": 13,
   "metadata": {},
   "outputs": [
    {
     "data": {
      "text/plain": [
       "<matplotlib.legend.Legend at 0x1807f5f9760>"
      ]
     },
     "execution_count": 13,
     "metadata": {},
     "output_type": "execute_result"
    },
    {
     "data": {
      "image/png": "[encoded data removed]",
      "text/plain": [
       "<Figure size 640x480 with 1 Axes>"
      ]
     },
     "metadata": {},
     "output_type": "display_data"
    }
   ],
   "source": [
    "import matplotlib.pyplot as plt\n",
    "\n",
    "plt.plot(model_history.history[\"accuracy\"],label=\"accuracy\")\n",
    "plt.plot(model_history.history[\"val_accuracy\"],label=\"val_accuracy\")\n",
    "plt.legend([\"train\",\"test\"],loc=\"lower left\")\n",
    "\n",
    "#the above curve meets near 1 and then becomes stable, showing that our model is not overfitting"
   ]
  },
  {
   "cell_type": "code",
   "execution_count": 14,
   "metadata": {},
   "outputs": [
    {
     "data": {
      "text/plain": [
       "<matplotlib.legend.Legend at 0x1807f84fa00>"
      ]
     },
     "execution_count": 14,
     "metadata": {},
     "output_type": "execute_result"
    },
    {
     "data": {
      "image/png": "[encoded data removed]",
      "text/plain": [
       "<Figure size 640x480 with 1 Axes>"
      ]
     },
     "metadata": {},
     "output_type": "display_data"
    }
   ],
   "source": [
    "#the loss values for test and training sets can be printed as follows:\n",
    "\n",
    "plt.plot(model_history.history[\"loss\"],label=\"loss\")\n",
    "plt.plot(model_history.history[\"val_loss\"],label=\"val_loss\")\n",
    "plt.legend([\"train\",\"test\"],loc=\"upper left\")"
   ]
  },
  {
   "cell_type": "markdown",
   "metadata": {},
   "source": [
    "# 9.2 - Recurrent Neural Networks RNN\n",
    "\n",
    "\n",
    "What is a RNN?\n",
    "- A RNN is a type of neural network that is used to process data that is sequential in nature\n",
    "- e.g. stock price, text sentences or sales of items\n",
    "- Sequential data is a type of data where the value of data at time step T depends upon the values of data\n",
    "- at timestaps less than T. For instances: sound waves, text sentences, stock market prices etc.\n",
    "- In the stock market price prediction problem, the value of the opening price of a stock at a given data depends upon the opening stock price of the previous days.\n",
    "- The difference between the architecture of a RNN and a simple neural network is as follows:\n",
    "- In a RNN at each time step, the previous output of the neuron is also multiplies by the current input via a weight vector.\n",
    "\n",
    "\n",
    "Problems with RNN\n",
    "- One problem with RNNs is that while it can capture a shorter sequence, it tends to forget longer sequences\n",
    "- For instance, it is easier to predict the missing word in the following sentence 'birds fly in the __' because the Key-word birds is present in the same sentence\n",
    "- RNN can easily guess that the missing word is clouds here\n",
    "- However RNN cannot remeber longer sentences\n",
    "- The RNN has multiple recurrent layers, resulting in a diminishing gradient problem\n",
    "- The diminishing gradient problem is that during the backpropagation of the recurrent layer, the gradient of the eariler layer becomes infinitesimally small, which virtually makes neural network initial layers stop from learning anything\n",
    "- To solve this problem, a special type of RNN, a Long Short-Term Memory LSTM has been developed\n",
    "\n",
    "\n",
    "What is an LSTM?\n",
    "- LSTM is a type of RNN capable of remembering longer seuqneces, and is therefore one of the most commonly used RNN for sequence tasks.\n",
    "- In LSTM instead of a single unit in the recurrent cell, there are four interacting units i.e.\n",
    "- a forget gate, an input gate, an update gate and an output gate.\n",
    "- The architecture of a LSTM cell is as follows:\n",
    "\n",
    "\n",
    "Cell state\n",
    "- Responsible for remembering a long sequence\n",
    "- Contains data from all previous cells in the sequence. \n",
    "- LSTM is capable of adding or removing information to a cell state.\n",
    "- In other fords LSTM tells the cell state which part of previous information to remember or forget\n",
    "\n",
    "\n",
    "Forget gate\n",
    "- Tells the cell state which information to retain or forget from the previous step\n",
    "\n",
    "\n",
    "Input gate\n",
    "- Updates or adds new information in the cell sate. There are two parts\n",
    "- Input layer - decides which part of the cell state is to be upadted\n",
    "- Tanh layer - creates a vector of new values that are added or replaced in the cell state\n",
    "\n",
    "\n",
    "Update gate\n",
    "- Performs the operations of the forget and input gates\n",
    "\n",
    "\n",
    "Output gate\n",
    "- Ouputs the hidden state and the ouput, like a common recurrent neural network\n",
    "- The additional ouput here is a cell satate"
   ]
  },
  {
   "cell_type": "markdown",
   "metadata": {},
   "source": [
    "# 9.3 - predicting future stock prices via LSTM in Keras\n",
    "\n",
    "here we we will predict the opening stock price of Meta\n",
    "\n",
    "In this section we will train the stock prediction model on the training set"
   ]
  },
  {
   "cell_type": "code",
   "execution_count": 16,
   "metadata": {},
   "outputs": [],
   "source": [
    "#here we import the dataset\n",
    "import pandas as pd\n",
    "import numpy as np\n",
    "\n",
    "meta_complete_data = pd.read_csv(\"META.csv\")"
   ]
  },
  {
   "cell_type": "code",
   "execution_count": 17,
   "metadata": {},
   "outputs": [
    {
     "data": {
      "text/html": [
       "<div>\n",
       "<style scoped>\n",
       "    .dataframe tbody tr th:only-of-type {\n",
       "        vertical-align: middle;\n",
       "    }\n",
       "\n",
       "    .dataframe tbody tr th {\n",
       "        vertical-align: top;\n",
       "    }\n",
       "\n",
       "    .dataframe thead th {\n",
       "        text-align: right;\n",
       "    }\n",
       "</style>\n",
       "<table border=\"1\" class=\"dataframe\">\n",
       "  <thead>\n",
       "    <tr style=\"text-align: right;\">\n",
       "      <th></th>\n",
       "      <th>Date</th>\n",
       "      <th>Open</th>\n",
       "      <th>High</th>\n",
       "      <th>Low</th>\n",
       "      <th>Close</th>\n",
       "      <th>Adj Close</th>\n",
       "      <th>Volume</th>\n",
       "    </tr>\n",
       "  </thead>\n",
       "  <tbody>\n",
       "    <tr>\n",
       "      <th>0</th>\n",
       "      <td>2012-05-18</td>\n",
       "      <td>42.049999</td>\n",
       "      <td>45.000000</td>\n",
       "      <td>38.000000</td>\n",
       "      <td>38.230000</td>\n",
       "      <td>38.230000</td>\n",
       "      <td>573576400</td>\n",
       "    </tr>\n",
       "    <tr>\n",
       "      <th>1</th>\n",
       "      <td>2012-05-21</td>\n",
       "      <td>36.529999</td>\n",
       "      <td>36.660000</td>\n",
       "      <td>33.000000</td>\n",
       "      <td>34.029999</td>\n",
       "      <td>34.029999</td>\n",
       "      <td>168192700</td>\n",
       "    </tr>\n",
       "    <tr>\n",
       "      <th>2</th>\n",
       "      <td>2012-05-22</td>\n",
       "      <td>32.610001</td>\n",
       "      <td>33.590000</td>\n",
       "      <td>30.940001</td>\n",
       "      <td>31.000000</td>\n",
       "      <td>31.000000</td>\n",
       "      <td>101786600</td>\n",
       "    </tr>\n",
       "    <tr>\n",
       "      <th>3</th>\n",
       "      <td>2012-05-23</td>\n",
       "      <td>31.370001</td>\n",
       "      <td>32.500000</td>\n",
       "      <td>31.360001</td>\n",
       "      <td>32.000000</td>\n",
       "      <td>32.000000</td>\n",
       "      <td>73600000</td>\n",
       "    </tr>\n",
       "    <tr>\n",
       "      <th>4</th>\n",
       "      <td>2012-05-24</td>\n",
       "      <td>32.950001</td>\n",
       "      <td>33.209999</td>\n",
       "      <td>31.770000</td>\n",
       "      <td>33.029999</td>\n",
       "      <td>33.029999</td>\n",
       "      <td>50237200</td>\n",
       "    </tr>\n",
       "  </tbody>\n",
       "</table>\n",
       "</div>"
      ],
      "text/plain": [
       "         Date       Open       High        Low      Close  Adj Close  \\\n",
       "0  2012-05-18  42.049999  45.000000  38.000000  38.230000  38.230000   \n",
       "1  2012-05-21  36.529999  36.660000  33.000000  34.029999  34.029999   \n",
       "2  2012-05-22  32.610001  33.590000  30.940001  31.000000  31.000000   \n",
       "3  2012-05-23  31.370001  32.500000  31.360001  32.000000  32.000000   \n",
       "4  2012-05-24  32.950001  33.209999  31.770000  33.029999  33.029999   \n",
       "\n",
       "      Volume  \n",
       "0  573576400  \n",
       "1  168192700  \n",
       "2  101786600  \n",
       "3   73600000  \n",
       "4   50237200  "
      ]
     },
     "execution_count": 17,
     "metadata": {},
     "output_type": "execute_result"
    }
   ],
   "source": [
    "#printing dataset header\n",
    "meta_complete_data.head()"
   ]
  },
  {
   "cell_type": "code",
   "execution_count": 18,
   "metadata": {},
   "outputs": [],
   "source": [
    "#here we are only interested in the open column, so we will select this from the dataset\n",
    "\n",
    "meta_training_processed = meta_complete_data[[\"Open\"]].values"
   ]
  },
  {
   "cell_type": "code",
   "execution_count": 19,
   "metadata": {},
   "outputs": [
    {
     "data": {
      "text/plain": [
       "2589"
      ]
     },
     "execution_count": 19,
     "metadata": {},
     "output_type": "execute_result"
    }
   ],
   "source": [
    "#scaling the features\n",
    "\n",
    "from sklearn.preprocessing import MinMaxScaler\n",
    "\n",
    "scaler = MinMaxScaler(feature_range=(0,1))\n",
    "\n",
    "meta_training_scaled = scaler.fit_transform(meta_training_processed)\n",
    "\n",
    "len(meta_training_scaled)\n",
    "#this output shows there are 2589 records"
   ]
  },
  {
   "cell_type": "markdown",
   "metadata": {},
   "source": [
    "- we need to divide the dataset into features and label\n",
    "- we are predicting the following day's data based off of the previous 60 days' values\n",
    "- the featur set will consist of 60 timestamps of 1 feature\n",
    "- the feature set is the stock price of the past 60 days\n",
    "- the label set will be the stock price on the 61st day\n",
    "- based on the opening stock prices of the previous days, we will be predict the opening stock price for the next day"
   ]
  },
  {
   "cell_type": "code",
   "execution_count": 20,
   "metadata": {},
   "outputs": [],
   "source": [
    "#training features are the last 60 days\n",
    "#training labels are the data of the 61st day\n",
    "\n",
    "meta_training_features = []\n",
    "meta_training_labels = []\n",
    "\n",
    "for i in range(60,len(meta_training_scaled)):\n",
    "    meta_training_features.append(meta_training_scaled[i-60:i,0])\n",
    "    meta_training_labels.append(meta_training_scaled[i,0])"
   ]
  },
  {
   "cell_type": "code",
   "execution_count": 21,
   "metadata": {},
   "outputs": [],
   "source": [
    "#converting training data to numpy arrays\n",
    "metaX_train = np.array(meta_training_features)\n",
    "metaY_train = np.array(meta_training_labels)"
   ]
  },
  {
   "cell_type": "code",
   "execution_count": 22,
   "metadata": {},
   "outputs": [
    {
     "name": "stdout",
     "output_type": "stream",
     "text": [
      "(2529, 60)\n",
      "(2529,)\n"
     ]
    }
   ],
   "source": [
    "#printing the shape of the dataset\n",
    "print(metaX_train.shape)\n",
    "print(metaY_train.shape)"
   ]
  },
  {
   "cell_type": "code",
   "execution_count": 23,
   "metadata": {},
   "outputs": [],
   "source": [
    "#we need to reshape the input features into a 3-dimensional format\n",
    "\n",
    "metaX_train = np.reshape(metaX_train,(metaX_train.shape[0],metaX_train.shape[1],1))"
   ]
  },
  {
   "cell_type": "markdown",
   "metadata": {},
   "source": [
    "the following code creates the LSTM model\n",
    "- we have 4 LSTM layers with 100 nodes each\n",
    "- each LSTM layer is followed by a dropout layer to avoid overfitting\n",
    "- the final dense has one node since the output is a single value"
   ]
  },
  {
   "cell_type": "code",
   "execution_count": 24,
   "metadata": {},
   "outputs": [],
   "source": [
    "#importing libraries\n",
    "import numpy as np\n",
    "import matplotlib.pyplot as plt\n",
    "from tensorflow.keras.layers import Input, Activation, Dense, Flatten, Dropout, LSTM\n",
    "from tensorflow.keras.models import Model\n",
    "\n",
    "#defining the LSTM network\n",
    "input_layer = Input(shape = (metaX_train.shape[1],1))\n",
    "lstm1 = LSTM(100,activation=\"relu\",return_sequences=True)(input_layer)\n",
    "do1 = Dropout(0.2)(lstm1)\n",
    "lstm2 = LSTM(100,activation=\"relu\",return_sequences=True)(do1)\n",
    "do2 = Dropout(0.2)(lstm2)\n",
    "lstm3 = LSTM(100,activation=\"relu\",return_sequences=True)(do2)\n",
    "do3 = Dropout(0.2)(lstm3)\n",
    "lstm4 = LSTM(100,activation=\"relu\")(do3)\n",
    "do4 = Dropout(0.2)(lstm4)\n",
    "\n",
    "output_layer = Dense(1)(do4)\n",
    "model = Model(input_layer,output_layer)\n",
    "model.compile(optimizer=\"adam\",loss=\"mse\")"
   ]
  },
  {
   "cell_type": "code",
   "execution_count": 25,
   "metadata": {},
   "outputs": [
    {
     "name": "stdout",
     "output_type": "stream",
     "text": [
      "(2529, 60, 1)\n",
      "(2529,)\n",
      "(2529, 1)\n"
     ]
    }
   ],
   "source": [
    "#next we need to convert the output metaY into a column vector\n",
    "\n",
    "print(metaX_train.shape)\n",
    "print(metaY_train.shape)\n",
    "metaY_train = metaY_train.reshape(-1,1)\n",
    "print(metaY_train.shape)\n"
   ]
  },
  {
   "cell_type": "code",
   "execution_count": 26,
   "metadata": {},
   "outputs": [
    {
     "name": "stdout",
     "output_type": "stream",
     "text": [
      "Epoch 1/100\n",
      "80/80 [==============================] - 17s 156ms/step - loss: 0.0167\n",
      "Epoch 2/100\n",
      "80/80 [==============================] - 12s 151ms/step - loss: 0.0035\n",
      "Epoch 3/100\n",
      "80/80 [==============================] - 10s 128ms/step - loss: 0.0029\n",
      "Epoch 4/100\n",
      "80/80 [==============================] - 10s 124ms/step - loss: 0.0033\n",
      "Epoch 5/100\n",
      "80/80 [==============================] - 10s 120ms/step - loss: 0.0026\n",
      "Epoch 6/100\n",
      "80/80 [==============================] - 10s 126ms/step - loss: 0.0025\n",
      "Epoch 7/100\n",
      "80/80 [==============================] - 10s 120ms/step - loss: 0.0024\n",
      "Epoch 8/100\n",
      "80/80 [==============================] - 10s 119ms/step - loss: 0.0028\n",
      "Epoch 9/100\n",
      "80/80 [==============================] - 10s 119ms/step - loss: 0.0022\n",
      "Epoch 10/100\n",
      "80/80 [==============================] - 9s 119ms/step - loss: 0.0022\n",
      "Epoch 11/100\n",
      "80/80 [==============================] - 11s 133ms/step - loss: 0.0020\n",
      "Epoch 12/100\n",
      "80/80 [==============================] - 11s 135ms/step - loss: 0.0022\n",
      "Epoch 13/100\n",
      "80/80 [==============================] - 11s 133ms/step - loss: 0.0020\n",
      "Epoch 14/100\n",
      "80/80 [==============================] - 11s 133ms/step - loss: 0.0026\n",
      "Epoch 15/100\n",
      "80/80 [==============================] - 11s 133ms/step - loss: 0.0018\n",
      "Epoch 16/100\n",
      "80/80 [==============================] - 11s 133ms/step - loss: 0.0017\n",
      "Epoch 17/100\n",
      "80/80 [==============================] - 11s 133ms/step - loss: 0.0019\n",
      "Epoch 18/100\n",
      "80/80 [==============================] - 11s 133ms/step - loss: 0.0016\n",
      "Epoch 19/100\n",
      "80/80 [==============================] - 11s 134ms/step - loss: 0.0016\n",
      "Epoch 20/100\n",
      "80/80 [==============================] - 11s 133ms/step - loss: 0.0016\n",
      "Epoch 21/100\n",
      "80/80 [==============================] - 11s 135ms/step - loss: 0.0018\n",
      "Epoch 22/100\n",
      "80/80 [==============================] - 11s 133ms/step - loss: 0.0015\n",
      "Epoch 23/100\n",
      "80/80 [==============================] - 14s 181ms/step - loss: 0.0019\n",
      "Epoch 24/100\n",
      "80/80 [==============================] - 13s 157ms/step - loss: 0.0017\n",
      "Epoch 25/100\n",
      "80/80 [==============================] - 12s 145ms/step - loss: 0.0026\n",
      "Epoch 26/100\n",
      "80/80 [==============================] - 12s 149ms/step - loss: 0.0014\n",
      "Epoch 27/100\n",
      "80/80 [==============================] - 14s 176ms/step - loss: 0.0013\n",
      "Epoch 28/100\n",
      "80/80 [==============================] - 15s 189ms/step - loss: 0.0013\n",
      "Epoch 29/100\n",
      "80/80 [==============================] - 14s 173ms/step - loss: 0.0015\n",
      "Epoch 30/100\n",
      "80/80 [==============================] - 13s 164ms/step - loss: 0.0014\n",
      "Epoch 31/100\n",
      "80/80 [==============================] - 13s 167ms/step - loss: 0.0012\n",
      "Epoch 32/100\n",
      "80/80 [==============================] - 13s 160ms/step - loss: 0.0013\n",
      "Epoch 33/100\n",
      "80/80 [==============================] - 14s 174ms/step - loss: 0.0013\n",
      "Epoch 34/100\n",
      "80/80 [==============================] - 12s 150ms/step - loss: 0.0016\n",
      "Epoch 35/100\n",
      "80/80 [==============================] - 11s 143ms/step - loss: 0.0013\n",
      "Epoch 36/100\n",
      "80/80 [==============================] - 12s 146ms/step - loss: 0.0013\n",
      "Epoch 37/100\n",
      "80/80 [==============================] - 12s 144ms/step - loss: 0.0013\n",
      "Epoch 38/100\n",
      "80/80 [==============================] - 11s 143ms/step - loss: 0.0012\n",
      "Epoch 39/100\n",
      "80/80 [==============================] - 11s 143ms/step - loss: 0.0012\n",
      "Epoch 40/100\n",
      "80/80 [==============================] - 11s 142ms/step - loss: 0.0012\n",
      "Epoch 41/100\n",
      "80/80 [==============================] - 12s 144ms/step - loss: 0.0012\n",
      "Epoch 42/100\n",
      "80/80 [==============================] - 11s 143ms/step - loss: 0.0012\n",
      "Epoch 43/100\n",
      "80/80 [==============================] - 11s 143ms/step - loss: 0.0012\n",
      "Epoch 44/100\n",
      "80/80 [==============================] - 12s 144ms/step - loss: 0.0011\n",
      "Epoch 45/100\n",
      "80/80 [==============================] - 12s 144ms/step - loss: 0.0012\n",
      "Epoch 46/100\n",
      "80/80 [==============================] - 11s 142ms/step - loss: 0.0015\n",
      "Epoch 47/100\n",
      "80/80 [==============================] - 11s 139ms/step - loss: 0.0012\n",
      "Epoch 48/100\n",
      "80/80 [==============================] - 12s 149ms/step - loss: 0.0014\n",
      "Epoch 49/100\n",
      "80/80 [==============================] - 12s 155ms/step - loss: 0.0010\n",
      "Epoch 50/100\n",
      "80/80 [==============================] - 12s 147ms/step - loss: 0.0011\n",
      "Epoch 51/100\n",
      "80/80 [==============================] - 12s 144ms/step - loss: 0.0012\n",
      "Epoch 52/100\n",
      "80/80 [==============================] - 12s 144ms/step - loss: 0.0011\n",
      "Epoch 53/100\n",
      "80/80 [==============================] - 12s 146ms/step - loss: 9.8086e-04\n",
      "Epoch 54/100\n",
      "80/80 [==============================] - 12s 147ms/step - loss: 0.0010\n",
      "Epoch 55/100\n",
      "80/80 [==============================] - 12s 149ms/step - loss: 0.0010\n",
      "Epoch 56/100\n",
      "80/80 [==============================] - 12s 148ms/step - loss: 0.0010\n",
      "Epoch 57/100\n",
      "80/80 [==============================] - 12s 150ms/step - loss: 9.8365e-04\n",
      "Epoch 58/100\n",
      "80/80 [==============================] - 12s 150ms/step - loss: 0.0010\n",
      "Epoch 59/100\n",
      "80/80 [==============================] - 12s 149ms/step - loss: 0.0010\n",
      "Epoch 60/100\n",
      "80/80 [==============================] - 12s 148ms/step - loss: 0.0010\n",
      "Epoch 61/100\n",
      "80/80 [==============================] - 12s 151ms/step - loss: 9.4549e-04\n",
      "Epoch 62/100\n",
      "80/80 [==============================] - 12s 150ms/step - loss: 0.0011\n",
      "Epoch 63/100\n",
      "80/80 [==============================] - 12s 150ms/step - loss: 0.0010\n",
      "Epoch 64/100\n",
      "80/80 [==============================] - 12s 148ms/step - loss: 9.3558e-04\n",
      "Epoch 65/100\n",
      "80/80 [==============================] - 12s 147ms/step - loss: 9.4040e-04\n",
      "Epoch 66/100\n",
      "80/80 [==============================] - 13s 163ms/step - loss: 9.8452e-04\n",
      "Epoch 67/100\n",
      "80/80 [==============================] - 15s 184ms/step - loss: 0.0011\n",
      "Epoch 68/100\n",
      "80/80 [==============================] - 12s 147ms/step - loss: 9.6383e-04\n",
      "Epoch 69/100\n",
      "80/80 [==============================] - 12s 144ms/step - loss: 9.4016e-04\n",
      "Epoch 70/100\n",
      "80/80 [==============================] - 11s 139ms/step - loss: 0.0011\n",
      "Epoch 71/100\n",
      "80/80 [==============================] - 11s 139ms/step - loss: 9.7784e-04\n",
      "Epoch 72/100\n",
      "80/80 [==============================] - 11s 143ms/step - loss: 0.0010\n",
      "Epoch 73/100\n",
      "80/80 [==============================] - 12s 154ms/step - loss: 9.6640e-04\n",
      "Epoch 74/100\n",
      "80/80 [==============================] - 12s 154ms/step - loss: 0.0016\n",
      "Epoch 75/100\n",
      "80/80 [==============================] - 12s 150ms/step - loss: 9.9848e-04\n",
      "Epoch 76/100\n",
      "80/80 [==============================] - 14s 180ms/step - loss: 0.0011\n",
      "Epoch 77/100\n",
      "80/80 [==============================] - 13s 156ms/step - loss: 9.1858e-04\n",
      "Epoch 78/100\n",
      "80/80 [==============================] - 12s 151ms/step - loss: 0.0012\n",
      "Epoch 79/100\n",
      "80/80 [==============================] - 12s 147ms/step - loss: 9.4852e-04\n",
      "Epoch 80/100\n",
      "80/80 [==============================] - 11s 140ms/step - loss: 9.7715e-04\n",
      "Epoch 81/100\n",
      "80/80 [==============================] - 11s 139ms/step - loss: 0.0010\n",
      "Epoch 82/100\n",
      "80/80 [==============================] - 11s 138ms/step - loss: 9.1442e-04\n",
      "Epoch 83/100\n",
      "80/80 [==============================] - 11s 139ms/step - loss: 8.7152e-04\n",
      "Epoch 84/100\n",
      "80/80 [==============================] - 11s 140ms/step - loss: 8.5739e-04\n",
      "Epoch 85/100\n",
      "80/80 [==============================] - 11s 138ms/step - loss: 9.3162e-04\n",
      "Epoch 86/100\n",
      "80/80 [==============================] - 11s 139ms/step - loss: 9.1382e-04\n",
      "Epoch 87/100\n",
      "80/80 [==============================] - 13s 157ms/step - loss: 9.5174e-04\n",
      "Epoch 88/100\n",
      "80/80 [==============================] - 12s 147ms/step - loss: 8.5367e-04\n",
      "Epoch 89/100\n",
      "80/80 [==============================] - 11s 141ms/step - loss: 8.9041e-04\n",
      "Epoch 90/100\n",
      "80/80 [==============================] - 12s 147ms/step - loss: 9.8285e-04\n",
      "Epoch 91/100\n",
      "80/80 [==============================] - 12s 154ms/step - loss: 9.9042e-04\n",
      "Epoch 92/100\n",
      "80/80 [==============================] - 12s 147ms/step - loss: 8.9590e-04\n",
      "Epoch 93/100\n",
      "80/80 [==============================] - 12s 151ms/step - loss: 8.5049e-04\n",
      "Epoch 94/100\n",
      "80/80 [==============================] - 12s 146ms/step - loss: 8.9062e-04\n",
      "Epoch 95/100\n",
      "80/80 [==============================] - 11s 140ms/step - loss: 9.8238e-04\n",
      "Epoch 96/100\n",
      "80/80 [==============================] - 12s 147ms/step - loss: 8.6984e-04\n",
      "Epoch 97/100\n",
      "80/80 [==============================] - 13s 156ms/step - loss: 8.6031e-04\n",
      "Epoch 98/100\n",
      "80/80 [==============================] - 12s 155ms/step - loss: 8.4172e-04\n",
      "Epoch 99/100\n",
      "80/80 [==============================] - 13s 165ms/step - loss: 9.1258e-04\n",
      "Epoch 100/100\n",
      "80/80 [==============================] - 12s 147ms/step - loss: 8.7201e-04\n"
     ]
    }
   ],
   "source": [
    "#the following script trains our stock price prediction model on the training set\n",
    "#number of epochs (training routines) = 100\n",
    "\n",
    "meta_model_history = model.fit(metaX_train,metaY_train,epochs=100,verbose=1,batch_size=32)\n"
   ]
  },
  {
   "cell_type": "markdown",
   "metadata": {},
   "source": [
    "testing the stock prediction model\n",
    "- the test data should also be converted into the right shape to test the model\n",
    "- first import the data and remove all the columns from the test data except the Open column"
   ]
  },
  {
   "cell_type": "code",
   "execution_count": 27,
   "metadata": {},
   "outputs": [],
   "source": [
    "meta_testing_complete_data = pd.read_csv(\"META.csv\")\n",
    "\n",
    "meta_testing_processed = meta_testing_complete_data[[\"Open\"]].values"
   ]
  },
  {
   "cell_type": "markdown",
   "metadata": {},
   "source": [
    "let's concatenate the training and test sets\n",
    "- we do this to predict the first value in the test set\n",
    "- the input will be the data from the past 60 days (the data from the last 60 days in the training set)"
   ]
  },
  {
   "cell_type": "code",
   "execution_count": 28,
   "metadata": {},
   "outputs": [],
   "source": [
    "meta_all_data = pd.concat((meta_complete_data[\"Open\"],meta_testing_complete_data[\"Open\"]),axis=0)"
   ]
  },
  {
   "cell_type": "code",
   "execution_count": 29,
   "metadata": {},
   "outputs": [
    {
     "name": "stdout",
     "output_type": "stream",
     "text": [
      "(2649,)\n"
     ]
    }
   ],
   "source": [
    "#the following script creates our final input feature set\n",
    "\n",
    "test_inputs = meta_all_data[len(meta_all_data) - len(meta_testing_complete_data) - 60:].values\n",
    "print(test_inputs.shape)"
   ]
  },
  {
   "cell_type": "code",
   "execution_count": 50,
   "metadata": {},
   "outputs": [
    {
     "name": "stdout",
     "output_type": "stream",
     "text": [
      "(2649, 1)\n",
      "2649\n"
     ]
    }
   ],
   "source": [
    "#scaling the data and converting it into a column vector\n",
    "\n",
    "test_inputs = test_inputs.reshape(-1,1)\n",
    "test_inputs = scaler.transform(test_inputs)\n",
    "print(test_inputs.shape)"
   ]
  },
  {
   "cell_type": "code",
   "execution_count": 51,
   "metadata": {},
   "outputs": [],
   "source": [
    "#just like the training data, we need to divide our input data into features and labels\n",
    "\n",
    "meta_test_features = []\n",
    "for i in range(60,test_inputs.shape[0]):\n",
    "    meta_test_features.append(test_inputs[i-60:i,0])\n"
   ]
  },
  {
   "cell_type": "code",
   "execution_count": 39,
   "metadata": {},
   "outputs": [
    {
     "name": "stdout",
     "output_type": "stream",
     "text": [
      "(2589, 60)\n"
     ]
    }
   ],
   "source": [
    "#printing the feature set\n",
    "\n",
    "metaX_test = np.array(meta_test_features)\n",
    "print(metaX_test.shape)"
   ]
  },
  {
   "cell_type": "markdown",
   "metadata": {},
   "source": [
    "the feature set is currently 2-dimensional\n",
    "- but the LSTM algorithm in Keras accepts only data in 3-dimensions\n",
    "- this code converts the input features into a 3D shape"
   ]
  },
  {
   "cell_type": "code",
   "execution_count": 40,
   "metadata": {},
   "outputs": [
    {
     "name": "stdout",
     "output_type": "stream",
     "text": [
      "(2589, 60, 1)\n"
     ]
    }
   ],
   "source": [
    "metaX_test = np.reshape(metaX_test,(metaX_test.shape[0],metaX_test.shape[1],1))\n",
    "print(metaX_test.shape)"
   ]
  },
  {
   "cell_type": "code",
   "execution_count": 41,
   "metadata": {},
   "outputs": [],
   "source": [
    "#now we make predicts on the test set\n",
    "\n",
    "metaY_pred = model.predict(metaX_test)"
   ]
  },
  {
   "cell_type": "code",
   "execution_count": 42,
   "metadata": {},
   "outputs": [],
   "source": [
    "#since we scaled our input feature, we need to apply the inverse_transform method of the scaler object\n",
    "#on the predicted output to get the original values\n",
    "\n",
    "metaY_pred = scaler.inverse_transform(metaY_pred)"
   ]
  },
  {
   "cell_type": "code",
   "execution_count": 52,
   "metadata": {},
   "outputs": [
    {
     "data": {
      "image/png": "[encoded data removed]",
      "text/plain": [
       "<Figure size 800x600 with 1 Axes>"
      ]
     },
     "metadata": {},
     "output_type": "display_data"
    }
   ],
   "source": [
    "#finally to compare the predicted output with the actual stock values, we can plot the two values on a chart\n",
    "\n",
    "from turtle import color\n",
    "\n",
    "plt.figure(figsize=(8,6))\n",
    "plt.plot(meta_testing_processed,color=\"red\",label=\"Actual Meta Stock Price\")\n",
    "plt.plot(metaY_pred,color=\"green\",label=\"Predicted Meta Stock Price\")\n",
    "plt.title(\"Meta Stock Prices\")\n",
    "plt.xlabel(\"Date\")\n",
    "plt.ylabel(\"Stock Price\")\n",
    "plt.legend()\n",
    "plt.show()"
   ]
  }
 ],
 "metadata": {
  "kernelspec": {
   "display_name": "Python 3",
   "language": "python",
   "name": "python3"
  },
  "language_info": {
   "codemirror_mode": {
    "name": "ipython",
    "version": 3
   },
   "file_extension": ".py",
   "mimetype": "text/x-python",
   "name": "python",
   "nbconvert_exporter": "python",
   "pygments_lexer": "ipython3",
   "version": "3.11.5"
  },
  "orig_nbformat": 4,
  "vscode": {
   "interpreter": {
    "hash": "ad73884a81f7632189c28d4e12539f0d6c20458369d36e8f33aceb52a2da65c1"
   }
  }
 },
 "nbformat": 4,
 "nbformat_minor": 2
}
